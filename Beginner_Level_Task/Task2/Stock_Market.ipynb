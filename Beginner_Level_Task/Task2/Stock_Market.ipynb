{
 "cells": [
  {
   "cell_type": "markdown",
   "metadata": {},
   "source": [
    "# Stock Market Prediction And Forecasting Using Stacked LSTM"
   ]
  },
  {
   "cell_type": "markdown",
   "metadata": {},
   "source": [
    "<B><I>Libraries</B></I>"
   ]
  },
  {
   "cell_type": "code",
   "execution_count": 44,
   "metadata": {},
   "outputs": [],
   "source": [
    "import numpy as np\n",
    "import pandas as pd\n",
    "import matplotlib.pyplot as plt\n",
    "from sklearn.preprocessing import MinMaxScaler\n",
    "from tensorflow.keras.models import Sequential\n",
    "from tensorflow.keras.layers import Dense, LSTM\n",
    "from sklearn.metrics import mean_absolute_error\n",
    "import math"
   ]
  },
  {
   "cell_type": "code",
   "execution_count": 2,
   "metadata": {},
   "outputs": [],
   "source": [
    "data = pd.read_csv('NSE-TATAGLOBAL.csv')"
   ]
  },
  {
   "cell_type": "code",
   "execution_count": 3,
   "metadata": {},
   "outputs": [
    {
     "data": {
      "text/html": [
       "<div>\n",
       "<style scoped>\n",
       "    .dataframe tbody tr th:only-of-type {\n",
       "        vertical-align: middle;\n",
       "    }\n",
       "\n",
       "    .dataframe tbody tr th {\n",
       "        vertical-align: top;\n",
       "    }\n",
       "\n",
       "    .dataframe thead th {\n",
       "        text-align: right;\n",
       "    }\n",
       "</style>\n",
       "<table border=\"1\" class=\"dataframe\">\n",
       "  <thead>\n",
       "    <tr style=\"text-align: right;\">\n",
       "      <th></th>\n",
       "      <th>Date</th>\n",
       "      <th>Open</th>\n",
       "      <th>High</th>\n",
       "      <th>Low</th>\n",
       "      <th>Last</th>\n",
       "      <th>Close</th>\n",
       "      <th>Total Trade Quantity</th>\n",
       "      <th>Turnover (Lacs)</th>\n",
       "    </tr>\n",
       "  </thead>\n",
       "  <tbody>\n",
       "    <tr>\n",
       "      <th>0</th>\n",
       "      <td>28/09/2018</td>\n",
       "      <td>234.05</td>\n",
       "      <td>235.95</td>\n",
       "      <td>230.20</td>\n",
       "      <td>233.50</td>\n",
       "      <td>233.75</td>\n",
       "      <td>3069914</td>\n",
       "      <td>7162.35</td>\n",
       "    </tr>\n",
       "    <tr>\n",
       "      <th>1</th>\n",
       "      <td>27/09/2018</td>\n",
       "      <td>234.55</td>\n",
       "      <td>236.80</td>\n",
       "      <td>231.10</td>\n",
       "      <td>233.80</td>\n",
       "      <td>233.25</td>\n",
       "      <td>5082859</td>\n",
       "      <td>11859.95</td>\n",
       "    </tr>\n",
       "    <tr>\n",
       "      <th>2</th>\n",
       "      <td>26/09/2018</td>\n",
       "      <td>240.00</td>\n",
       "      <td>240.00</td>\n",
       "      <td>232.50</td>\n",
       "      <td>235.00</td>\n",
       "      <td>234.25</td>\n",
       "      <td>2240909</td>\n",
       "      <td>5248.60</td>\n",
       "    </tr>\n",
       "    <tr>\n",
       "      <th>3</th>\n",
       "      <td>25/09/2018</td>\n",
       "      <td>233.30</td>\n",
       "      <td>236.75</td>\n",
       "      <td>232.00</td>\n",
       "      <td>236.25</td>\n",
       "      <td>236.10</td>\n",
       "      <td>2349368</td>\n",
       "      <td>5503.90</td>\n",
       "    </tr>\n",
       "    <tr>\n",
       "      <th>4</th>\n",
       "      <td>24/09/2018</td>\n",
       "      <td>233.55</td>\n",
       "      <td>239.20</td>\n",
       "      <td>230.75</td>\n",
       "      <td>234.00</td>\n",
       "      <td>233.30</td>\n",
       "      <td>3423509</td>\n",
       "      <td>7999.55</td>\n",
       "    </tr>\n",
       "  </tbody>\n",
       "</table>\n",
       "</div>"
      ],
      "text/plain": [
       "         Date    Open    High     Low    Last   Close  Total Trade Quantity  \\\n",
       "0  28/09/2018  234.05  235.95  230.20  233.50  233.75               3069914   \n",
       "1  27/09/2018  234.55  236.80  231.10  233.80  233.25               5082859   \n",
       "2  26/09/2018  240.00  240.00  232.50  235.00  234.25               2240909   \n",
       "3  25/09/2018  233.30  236.75  232.00  236.25  236.10               2349368   \n",
       "4  24/09/2018  233.55  239.20  230.75  234.00  233.30               3423509   \n",
       "\n",
       "   Turnover (Lacs)  \n",
       "0          7162.35  \n",
       "1         11859.95  \n",
       "2          5248.60  \n",
       "3          5503.90  \n",
       "4          7999.55  "
      ]
     },
     "execution_count": 3,
     "metadata": {},
     "output_type": "execute_result"
    }
   ],
   "source": [
    "data.head()"
   ]
  },
  {
   "cell_type": "code",
   "execution_count": 4,
   "metadata": {},
   "outputs": [
    {
     "name": "stdout",
     "output_type": "stream",
     "text": [
      "<class 'pandas.core.frame.DataFrame'>\n",
      "RangeIndex: 2035 entries, 0 to 2034\n",
      "Data columns (total 8 columns):\n",
      " #   Column                Non-Null Count  Dtype  \n",
      "---  ------                --------------  -----  \n",
      " 0   Date                  2035 non-null   object \n",
      " 1   Open                  2035 non-null   float64\n",
      " 2   High                  2035 non-null   float64\n",
      " 3   Low                   2035 non-null   float64\n",
      " 4   Last                  2035 non-null   float64\n",
      " 5   Close                 2035 non-null   float64\n",
      " 6   Total Trade Quantity  2035 non-null   int64  \n",
      " 7   Turnover (Lacs)       2035 non-null   float64\n",
      "dtypes: float64(6), int64(1), object(1)\n",
      "memory usage: 127.3+ KB\n"
     ]
    }
   ],
   "source": [
    "data.info()"
   ]
  },
  {
   "cell_type": "markdown",
   "metadata": {},
   "source": [
    "<B><I>The Closing Rate Matters, so we will check the graph of Rate</B></I>"
   ]
  },
  {
   "cell_type": "code",
   "execution_count": 5,
   "metadata": {},
   "outputs": [
    {
     "data": {
      "text/plain": [
       "[<matplotlib.lines.Line2D at 0x1d5dd747630>]"
      ]
     },
     "execution_count": 5,
     "metadata": {},
     "output_type": "execute_result"
    },
    {
     "data": {
      "image/png": "[encoded data removed]",
      "text/plain": [
       "<Figure size 432x288 with 1 Axes>"
      ]
     },
     "metadata": {
      "needs_background": "light"
     },
     "output_type": "display_data"
    }
   ],
   "source": [
    "data2 = data.reset_index()['Close']\n",
    "plt.xlabel('Time')\n",
    "plt.ylabel('Close Rates')\n",
    "plt.plot(data2)"
   ]
  },
  {
   "cell_type": "markdown",
   "metadata": {},
   "source": [
    "<B><I>Changing the Rates between 0 & 1 and reversing the data</B></I>"
   ]
  },
  {
   "cell_type": "code",
   "execution_count": 6,
   "metadata": {},
   "outputs": [],
   "source": [
    "scaler = MinMaxScaler(feature_range=(0,1))\n",
    "data2 = scaler.fit_transform(np.array(data2).reshape(-1,1))"
   ]
  },
  {
   "cell_type": "code",
   "execution_count": 7,
   "metadata": {},
   "outputs": [
    {
     "data": {
      "text/plain": [
       "array([[0.62418301],\n",
       "       [0.62214052],\n",
       "       [0.62622549],\n",
       "       ...,\n",
       "       [0.1621732 ],\n",
       "       [0.16319444],\n",
       "       [0.16584967]])"
      ]
     },
     "execution_count": 7,
     "metadata": {},
     "output_type": "execute_result"
    }
   ],
   "source": [
    "data2"
   ]
  },
  {
   "cell_type": "code",
   "execution_count": 18,
   "metadata": {},
   "outputs": [],
   "source": [
    "def ds_dividing(ds, train_split=0.65):\n",
    "    \n",
    "    ds_size = len(ds)\n",
    "    \n",
    "    train_size = int(train_split * ds_size)\n",
    "    \n",
    "    train_ds = ds[:train_size]\n",
    "    \n",
    "    test_ds = ds[train_size:]\n",
    "    \n",
    "    return train_ds, test_ds"
   ]
  },
  {
   "cell_type": "code",
   "execution_count": 19,
   "metadata": {},
   "outputs": [],
   "source": [
    "train_ds, test_ds = ds_dividing(data2)"
   ]
  },
  {
   "cell_type": "code",
   "execution_count": 21,
   "metadata": {},
   "outputs": [
    {
     "data": {
      "text/plain": [
       "True"
      ]
     },
     "execution_count": 21,
     "metadata": {},
     "output_type": "execute_result"
    }
   ],
   "source": [
    "len(data2) == len(train_ds)+len(test_ds)"
   ]
  },
  {
   "cell_type": "code",
   "execution_count": 23,
   "metadata": {},
   "outputs": [
    {
     "data": {
      "text/plain": [
       "(1322, 713)"
      ]
     },
     "execution_count": 23,
     "metadata": {},
     "output_type": "execute_result"
    }
   ],
   "source": [
    "len(train_ds),len(test_ds)"
   ]
  },
  {
   "cell_type": "code",
   "execution_count": 32,
   "metadata": {},
   "outputs": [],
   "source": [
    "def XY(ds, time_step=100):\n",
    "    A, B = [], []\n",
    "    for x in range(len(ds) - time_step - 1):\n",
    "        a = ds[x:(x+time_step), 0]\n",
    "        A.append(a)\n",
    "        B.append(ds[x + time_step, 0])\n",
    "        \n",
    "    return np.array(A), np.array(B)"
   ]
  },
  {
   "cell_type": "code",
   "execution_count": 33,
   "metadata": {},
   "outputs": [],
   "source": [
    "x_train, y_train = XY(train_ds)"
   ]
  },
  {
   "cell_type": "code",
   "execution_count": 35,
   "metadata": {},
   "outputs": [
    {
     "data": {
      "text/plain": [
       "(1221, 100)"
      ]
     },
     "execution_count": 35,
     "metadata": {},
     "output_type": "execute_result"
    }
   ],
   "source": [
    "x_train.shape"
   ]
  },
  {
   "cell_type": "code",
   "execution_count": 36,
   "metadata": {},
   "outputs": [
    {
     "data": {
      "text/plain": [
       "(1221,)"
      ]
     },
     "execution_count": 36,
     "metadata": {},
     "output_type": "execute_result"
    }
   ],
   "source": [
    " y_train.shape"
   ]
  },
  {
   "cell_type": "code",
   "execution_count": 37,
   "metadata": {},
   "outputs": [],
   "source": [
    "x_test, y_test = XY(test_ds)"
   ]
  },
  {
   "cell_type": "code",
   "execution_count": 38,
   "metadata": {},
   "outputs": [
    {
     "data": {
      "text/plain": [
       "(612, 100)"
      ]
     },
     "execution_count": 38,
     "metadata": {},
     "output_type": "execute_result"
    }
   ],
   "source": [
    "x_test.shape"
   ]
  },
  {
   "cell_type": "code",
   "execution_count": 39,
   "metadata": {},
   "outputs": [
    {
     "data": {
      "text/plain": [
       "(612,)"
      ]
     },
     "execution_count": 39,
     "metadata": {},
     "output_type": "execute_result"
    }
   ],
   "source": [
    "y_test.shape"
   ]
  },
  {
   "cell_type": "code",
   "execution_count": 40,
   "metadata": {},
   "outputs": [],
   "source": [
    "x_train =x_train.reshape(x_train.shape[0],x_train.shape[1] , 1)\n",
    "x_test = x_test.reshape(x_test.shape[0],x_test.shape[1] , 1)"
   ]
  },
  {
   "cell_type": "code",
   "execution_count": 65,
   "metadata": {},
   "outputs": [],
   "source": [
    "model=Sequential()\n",
    "model.add(LSTM(60,return_sequences=True,input_shape=(100,1)))\n",
    "model.add(LSTM(55,return_sequences=True))\n",
    "model.add(LSTM(40))\n",
    "model.add(Dense(1))"
   ]
  },
  {
   "cell_type": "code",
   "execution_count": 66,
   "metadata": {},
   "outputs": [],
   "source": [
    "model.compile(loss='mean_squared_error',optimizer='RMSprop')"
   ]
  },
  {
   "cell_type": "code",
   "execution_count": 67,
   "metadata": {},
   "outputs": [
    {
     "name": "stdout",
     "output_type": "stream",
     "text": [
      "Model: \"sequential_4\"\n",
      "_________________________________________________________________\n",
      "Layer (type)                 Output Shape              Param #   \n",
      "=================================================================\n",
      "lstm_12 (LSTM)               (None, 100, 60)           14880     \n",
      "_________________________________________________________________\n",
      "lstm_13 (LSTM)               (None, 100, 55)           25520     \n",
      "_________________________________________________________________\n",
      "lstm_14 (LSTM)               (None, 40)                15360     \n",
      "_________________________________________________________________\n",
      "dense_4 (Dense)              (None, 1)                 41        \n",
      "=================================================================\n",
      "Total params: 55,801\n",
      "Trainable params: 55,801\n",
      "Non-trainable params: 0\n",
      "_________________________________________________________________\n"
     ]
    }
   ],
   "source": [
    "model.summary()"
   ]
  },
  {
   "cell_type": "code",
   "execution_count": 68,
   "metadata": {},
   "outputs": [
    {
     "name": "stdout",
     "output_type": "stream",
     "text": [
      "Epoch 1/60\n",
      "20/20 [==============================] - 9s 240ms/step - loss: 0.0170 - val_loss: 0.0018\n",
      "Epoch 2/60\n",
      "20/20 [==============================] - 4s 199ms/step - loss: 0.0053 - val_loss: 0.0012\n",
      "Epoch 3/60\n",
      "20/20 [==============================] - 4s 197ms/step - loss: 0.0042 - val_loss: 0.0018\n",
      "Epoch 4/60\n",
      "20/20 [==============================] - 4s 197ms/step - loss: 0.0029 - val_loss: 0.0015\n",
      "Epoch 5/60\n",
      "20/20 [==============================] - 4s 198ms/step - loss: 0.0042 - val_loss: 8.9060e-04\n",
      "Epoch 6/60\n",
      "20/20 [==============================] - 4s 196ms/step - loss: 0.0027 - val_loss: 0.0011\n",
      "Epoch 7/60\n",
      "20/20 [==============================] - 4s 197ms/step - loss: 0.0031 - val_loss: 8.4106e-04\n",
      "Epoch 8/60\n",
      "20/20 [==============================] - 4s 198ms/step - loss: 0.0025 - val_loss: 0.0031\n",
      "Epoch 9/60\n",
      "20/20 [==============================] - 4s 195ms/step - loss: 0.0024 - val_loss: 5.8678e-04\n",
      "Epoch 10/60\n",
      "20/20 [==============================] - 4s 196ms/step - loss: 0.0030 - val_loss: 9.2482e-04\n",
      "Epoch 11/60\n",
      "20/20 [==============================] - 4s 201ms/step - loss: 0.0020 - val_loss: 5.2385e-04\n",
      "Epoch 12/60\n",
      "20/20 [==============================] - 4s 199ms/step - loss: 0.0017 - val_loss: 7.8147e-04\n",
      "Epoch 13/60\n",
      "20/20 [==============================] - 4s 218ms/step - loss: 0.0022 - val_loss: 7.8753e-04\n",
      "Epoch 14/60\n",
      "20/20 [==============================] - 4s 213ms/step - loss: 0.0019 - val_loss: 5.8172e-04\n",
      "Epoch 15/60\n",
      "20/20 [==============================] - 4s 211ms/step - loss: 0.0017 - val_loss: 6.6259e-04\n",
      "Epoch 16/60\n",
      "20/20 [==============================] - 4s 210ms/step - loss: 0.0014 - val_loss: 0.0013\n",
      "Epoch 17/60\n",
      "20/20 [==============================] - 4s 211ms/step - loss: 0.0018 - val_loss: 0.0020\n",
      "Epoch 18/60\n",
      "20/20 [==============================] - 4s 211ms/step - loss: 0.0014 - val_loss: 0.0023\n",
      "Epoch 19/60\n",
      "20/20 [==============================] - 4s 214ms/step - loss: 0.0015 - val_loss: 0.0015\n",
      "Epoch 20/60\n",
      "20/20 [==============================] - 4s 213ms/step - loss: 0.0011 - val_loss: 4.0193e-04\n",
      "Epoch 21/60\n",
      "20/20 [==============================] - 4s 212ms/step - loss: 0.0013 - val_loss: 0.0017\n",
      "Epoch 22/60\n",
      "20/20 [==============================] - 4s 213ms/step - loss: 0.0012 - val_loss: 0.0024\n",
      "Epoch 23/60\n",
      "20/20 [==============================] - 4s 213ms/step - loss: 0.0013 - val_loss: 9.3974e-04\n",
      "Epoch 24/60\n",
      "20/20 [==============================] - 4s 226ms/step - loss: 0.0012 - val_loss: 3.8227e-04\n",
      "Epoch 25/60\n",
      "20/20 [==============================] - 5s 233ms/step - loss: 0.0013 - val_loss: 0.0025\n",
      "Epoch 26/60\n",
      "20/20 [==============================] - 4s 221ms/step - loss: 0.0011 - val_loss: 7.2277e-04\n",
      "Epoch 27/60\n",
      "20/20 [==============================] - 5s 238ms/step - loss: 0.0010 - val_loss: 0.0019\n",
      "Epoch 28/60\n",
      "20/20 [==============================] - 5s 239ms/step - loss: 0.0011 - val_loss: 0.0038\n",
      "Epoch 29/60\n",
      "20/20 [==============================] - 4s 207ms/step - loss: 0.0010 - val_loss: 5.6135e-04\n",
      "Epoch 30/60\n",
      "20/20 [==============================] - 4s 206ms/step - loss: 9.1452e-04 - val_loss: 0.0017\n",
      "Epoch 31/60\n",
      "20/20 [==============================] - 4s 205ms/step - loss: 8.3586e-04 - val_loss: 0.0017\n",
      "Epoch 32/60\n",
      "20/20 [==============================] - 4s 207ms/step - loss: 0.0012 - val_loss: 3.8035e-04\n",
      "Epoch 33/60\n",
      "20/20 [==============================] - 4s 213ms/step - loss: 0.0010 - val_loss: 4.7265e-04\n",
      "Epoch 34/60\n",
      "20/20 [==============================] - 4s 213ms/step - loss: 9.0543e-04 - val_loss: 6.5238e-04\n",
      "Epoch 35/60\n",
      "20/20 [==============================] - 4s 226ms/step - loss: 9.7652e-04 - val_loss: 2.8066e-04\n",
      "Epoch 36/60\n",
      "20/20 [==============================] - 4s 213ms/step - loss: 5.1393e-04 - val_loss: 6.1184e-04\n",
      "Epoch 37/60\n",
      "20/20 [==============================] - 4s 215ms/step - loss: 9.8104e-04 - val_loss: 3.6289e-04\n",
      "Epoch 38/60\n",
      "20/20 [==============================] - 4s 213ms/step - loss: 9.1077e-04 - val_loss: 5.6289e-04\n",
      "Epoch 39/60\n",
      "20/20 [==============================] - 4s 214ms/step - loss: 7.0038e-04 - val_loss: 9.8576e-04\n",
      "Epoch 40/60\n",
      "20/20 [==============================] - 4s 215ms/step - loss: 7.8937e-04 - val_loss: 2.1453e-04\n",
      "Epoch 41/60\n",
      "20/20 [==============================] - 4s 214ms/step - loss: 8.1316e-04 - val_loss: 6.4943e-04\n",
      "Epoch 42/60\n",
      "20/20 [==============================] - 4s 222ms/step - loss: 7.9339e-04 - val_loss: 1.9054e-04\n",
      "Epoch 43/60\n",
      "20/20 [==============================] - 4s 220ms/step - loss: 7.0433e-04 - val_loss: 2.4917e-04\n",
      "Epoch 44/60\n",
      "20/20 [==============================] - 4s 214ms/step - loss: 7.0632e-04 - val_loss: 6.8149e-04\n",
      "Epoch 45/60\n",
      "20/20 [==============================] - 4s 214ms/step - loss: 6.8793e-04 - val_loss: 9.0617e-04\n",
      "Epoch 46/60\n",
      "20/20 [==============================] - 4s 215ms/step - loss: 6.7731e-04 - val_loss: 7.8375e-04\n",
      "Epoch 47/60\n",
      "20/20 [==============================] - 4s 215ms/step - loss: 7.3189e-04 - val_loss: 4.9578e-04\n",
      "Epoch 48/60\n",
      "20/20 [==============================] - 4s 215ms/step - loss: 7.0935e-04 - val_loss: 2.5861e-04\n",
      "Epoch 49/60\n",
      "20/20 [==============================] - 4s 213ms/step - loss: 6.3857e-04 - val_loss: 0.0014\n",
      "Epoch 50/60\n",
      "20/20 [==============================] - 4s 216ms/step - loss: 7.1171e-04 - val_loss: 1.7170e-04\n",
      "Epoch 51/60\n",
      "20/20 [==============================] - 4s 215ms/step - loss: 7.6525e-04 - val_loss: 1.8548e-04\n",
      "Epoch 52/60\n",
      "20/20 [==============================] - 4s 215ms/step - loss: 5.4305e-04 - val_loss: 4.6518e-04\n",
      "Epoch 53/60\n",
      "20/20 [==============================] - 4s 217ms/step - loss: 5.4489e-04 - val_loss: 1.6233e-04\n",
      "Epoch 54/60\n",
      "20/20 [==============================] - 4s 217ms/step - loss: 6.7970e-04 - val_loss: 1.9383e-04\n",
      "Epoch 55/60\n",
      "20/20 [==============================] - 4s 216ms/step - loss: 5.1813e-04 - val_loss: 2.1692e-04\n",
      "Epoch 56/60\n",
      "20/20 [==============================] - 4s 215ms/step - loss: 5.3390e-04 - val_loss: 0.0016\n",
      "Epoch 57/60\n",
      "20/20 [==============================] - 4s 219ms/step - loss: 5.8694e-04 - val_loss: 1.7270e-04\n",
      "Epoch 58/60\n",
      "20/20 [==============================] - 4s 220ms/step - loss: 6.2315e-04 - val_loss: 4.3140e-04\n",
      "Epoch 59/60\n",
      "20/20 [==============================] - 4s 217ms/step - loss: 4.6522e-04 - val_loss: 1.8493e-04\n",
      "Epoch 60/60\n",
      "20/20 [==============================] - 4s 217ms/step - loss: 5.2115e-04 - val_loss: 4.0733e-04\n"
     ]
    }
   ],
   "source": [
    "history = model.fit(x_train,y_train,validation_data=(x_test,y_test),epochs=60,batch_size=64,verbose=1)"
   ]
  },
  {
   "cell_type": "code",
   "execution_count": 70,
   "metadata": {},
   "outputs": [],
   "source": [
    "train_prediction = model.predict(x_train)\n",
    "test_prediction = model.predict(x_test)"
   ]
  },
  {
   "cell_type": "code",
   "execution_count": 71,
   "metadata": {},
   "outputs": [],
   "source": [
    "train_prediction = scaler.inverse_transform(train_prediction)\n",
    "test_prediction = scaler.inverse_transform(test_prediction)"
   ]
  },
  {
   "cell_type": "code",
   "execution_count": 73,
   "metadata": {},
   "outputs": [
    {
     "data": {
      "text/plain": [
       "12.49682534205143"
      ]
     },
     "execution_count": 73,
     "metadata": {},
     "output_type": "execute_result"
    }
   ],
   "source": [
    "math.sqrt(mean_absolute_error(y_train,train_predict))"
   ]
  },
  {
   "cell_type": "code",
   "execution_count": 74,
   "metadata": {},
   "outputs": [
    {
     "data": {
      "text/plain": [
       "10.700866879701149"
      ]
     },
     "execution_count": 74,
     "metadata": {},
     "output_type": "execute_result"
    }
   ],
   "source": [
    "math.sqrt(mean_absolute_error(y_test,test_predict))"
   ]
  },
  {
   "cell_type": "code",
   "execution_count": 78,
   "metadata": {},
   "outputs": [
    {
     "data": {
      "image/png": "[encoded data removed]",
      "text/plain": [
       "<Figure size 576x576 with 1 Axes>"
      ]
     },
     "metadata": {
      "needs_background": "light"
     },
     "output_type": "display_data"
    }
   ],
   "source": [
    "loss = history.history['loss']\n",
    "val_loss = history.history['val_loss']\n",
    "plt.figure(figsize=(8,8))\n",
    "plt.plot(range(60), loss, label='Training Loss')\n",
    "plt.plot(range(60), val_loss, label='Validation Loss')\n",
    "plt.legend(loc='upper right')\n",
    "plt.title('Training and Validation Loss')\n",
    "plt.show()"
   ]
  },
  {
   "cell_type": "code",
   "execution_count": null,
   "metadata": {},
   "outputs": [],
   "source": []
  }
 ],
 "metadata": {
  "kernelspec": {
   "display_name": "Python 3",
   "language": "python",
   "name": "python3"
  },
  "language_info": {
   "codemirror_mode": {
    "name": "ipython",
    "version": 3
   },
   "file_extension": ".py",
   "mimetype": "text/x-python",
   "name": "python",
   "nbconvert_exporter": "python",
   "pygments_lexer": "ipython3",
   "version": "3.7.3"
  }
 },
 "nbformat": 4,
 "nbformat_minor": 4
}
