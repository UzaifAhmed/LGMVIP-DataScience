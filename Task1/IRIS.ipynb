{
 "cells": [
  {
   "cell_type": "markdown",
   "metadata": {},
   "source": [
    "# Iris Flowers Classification ML Project"
   ]
  },
  {
   "cell_type": "markdown",
   "metadata": {},
   "source": [
    "<B><I>Libraries</I></B>"
   ]
  },
  {
   "cell_type": "code",
   "execution_count": 76,
   "metadata": {},
   "outputs": [],
   "source": [
    "import tensorflow as tf\n",
    "import numpy as np\n",
    "import pandas as pd\n",
    "import matplotlib.pyplot as plt\n",
    "from tensorflow.keras.utils import to_categorical\n",
    "import random"
   ]
  },
  {
   "cell_type": "markdown",
   "metadata": {},
   "source": [
    "<B><I>Fetching Dataset</I></B>"
   ]
  },
  {
   "cell_type": "code",
   "execution_count": 2,
   "metadata": {},
   "outputs": [],
   "source": [
    "dataframe = pd.read_csv(\"iris.csv\")"
   ]
  },
  {
   "cell_type": "code",
   "execution_count": 3,
   "metadata": {},
   "outputs": [
    {
     "data": {
      "text/html": [
       "<div>\n",
       "<style scoped>\n",
       "    .dataframe tbody tr th:only-of-type {\n",
       "        vertical-align: middle;\n",
       "    }\n",
       "\n",
       "    .dataframe tbody tr th {\n",
       "        vertical-align: top;\n",
       "    }\n",
       "\n",
       "    .dataframe thead th {\n",
       "        text-align: right;\n",
       "    }\n",
       "</style>\n",
       "<table border=\"1\" class=\"dataframe\">\n",
       "  <thead>\n",
       "    <tr style=\"text-align: right;\">\n",
       "      <th></th>\n",
       "      <th>sepal.length</th>\n",
       "      <th>sepal.width</th>\n",
       "      <th>petal.length</th>\n",
       "      <th>petal.width</th>\n",
       "      <th>variety</th>\n",
       "    </tr>\n",
       "  </thead>\n",
       "  <tbody>\n",
       "    <tr>\n",
       "      <th>0</th>\n",
       "      <td>5.1</td>\n",
       "      <td>3.5</td>\n",
       "      <td>1.4</td>\n",
       "      <td>0.2</td>\n",
       "      <td>Setosa</td>\n",
       "    </tr>\n",
       "    <tr>\n",
       "      <th>1</th>\n",
       "      <td>4.9</td>\n",
       "      <td>3.0</td>\n",
       "      <td>1.4</td>\n",
       "      <td>0.2</td>\n",
       "      <td>Setosa</td>\n",
       "    </tr>\n",
       "    <tr>\n",
       "      <th>2</th>\n",
       "      <td>4.7</td>\n",
       "      <td>3.2</td>\n",
       "      <td>1.3</td>\n",
       "      <td>0.2</td>\n",
       "      <td>Setosa</td>\n",
       "    </tr>\n",
       "    <tr>\n",
       "      <th>3</th>\n",
       "      <td>4.6</td>\n",
       "      <td>3.1</td>\n",
       "      <td>1.5</td>\n",
       "      <td>0.2</td>\n",
       "      <td>Setosa</td>\n",
       "    </tr>\n",
       "    <tr>\n",
       "      <th>4</th>\n",
       "      <td>5.0</td>\n",
       "      <td>3.6</td>\n",
       "      <td>1.4</td>\n",
       "      <td>0.2</td>\n",
       "      <td>Setosa</td>\n",
       "    </tr>\n",
       "  </tbody>\n",
       "</table>\n",
       "</div>"
      ],
      "text/plain": [
       "   sepal.length  sepal.width  petal.length  petal.width variety\n",
       "0           5.1          3.5           1.4          0.2  Setosa\n",
       "1           4.9          3.0           1.4          0.2  Setosa\n",
       "2           4.7          3.2           1.3          0.2  Setosa\n",
       "3           4.6          3.1           1.5          0.2  Setosa\n",
       "4           5.0          3.6           1.4          0.2  Setosa"
      ]
     },
     "execution_count": 3,
     "metadata": {},
     "output_type": "execute_result"
    }
   ],
   "source": [
    "dataframe.head()"
   ]
  },
  {
   "cell_type": "markdown",
   "metadata": {},
   "source": [
    "# \n",
    "1) Iris Versicolor\n",
    "2) Iris Santosa\n",
    "3) Iris Virginika"
   ]
  },
  {
   "cell_type": "markdown",
   "metadata": {},
   "source": [
    "<B><I>Shuffling Data</I></B>"
   ]
  },
  {
   "cell_type": "code",
   "execution_count": 4,
   "metadata": {},
   "outputs": [
    {
     "data": {
      "text/html": [
       "<div>\n",
       "<style scoped>\n",
       "    .dataframe tbody tr th:only-of-type {\n",
       "        vertical-align: middle;\n",
       "    }\n",
       "\n",
       "    .dataframe tbody tr th {\n",
       "        vertical-align: top;\n",
       "    }\n",
       "\n",
       "    .dataframe thead th {\n",
       "        text-align: right;\n",
       "    }\n",
       "</style>\n",
       "<table border=\"1\" class=\"dataframe\">\n",
       "  <thead>\n",
       "    <tr style=\"text-align: right;\">\n",
       "      <th></th>\n",
       "      <th>sepal.length</th>\n",
       "      <th>sepal.width</th>\n",
       "      <th>petal.length</th>\n",
       "      <th>petal.width</th>\n",
       "      <th>variety</th>\n",
       "    </tr>\n",
       "  </thead>\n",
       "  <tbody>\n",
       "    <tr>\n",
       "      <th>124</th>\n",
       "      <td>6.7</td>\n",
       "      <td>3.3</td>\n",
       "      <td>5.7</td>\n",
       "      <td>2.1</td>\n",
       "      <td>Virginica</td>\n",
       "    </tr>\n",
       "    <tr>\n",
       "      <th>127</th>\n",
       "      <td>6.1</td>\n",
       "      <td>3.0</td>\n",
       "      <td>4.9</td>\n",
       "      <td>1.8</td>\n",
       "      <td>Virginica</td>\n",
       "    </tr>\n",
       "    <tr>\n",
       "      <th>64</th>\n",
       "      <td>5.6</td>\n",
       "      <td>2.9</td>\n",
       "      <td>3.6</td>\n",
       "      <td>1.3</td>\n",
       "      <td>Versicolor</td>\n",
       "    </tr>\n",
       "    <tr>\n",
       "      <th>46</th>\n",
       "      <td>5.1</td>\n",
       "      <td>3.8</td>\n",
       "      <td>1.6</td>\n",
       "      <td>0.2</td>\n",
       "      <td>Setosa</td>\n",
       "    </tr>\n",
       "    <tr>\n",
       "      <th>35</th>\n",
       "      <td>5.0</td>\n",
       "      <td>3.2</td>\n",
       "      <td>1.2</td>\n",
       "      <td>0.2</td>\n",
       "      <td>Setosa</td>\n",
       "    </tr>\n",
       "  </tbody>\n",
       "</table>\n",
       "</div>"
      ],
      "text/plain": [
       "     sepal.length  sepal.width  petal.length  petal.width     variety\n",
       "124           6.7          3.3           5.7          2.1   Virginica\n",
       "127           6.1          3.0           4.9          1.8   Virginica\n",
       "64            5.6          2.9           3.6          1.3  Versicolor\n",
       "46            5.1          3.8           1.6          0.2      Setosa\n",
       "35            5.0          3.2           1.2          0.2      Setosa"
      ]
     },
     "execution_count": 4,
     "metadata": {},
     "output_type": "execute_result"
    }
   ],
   "source": [
    "df = dataframe.sample(frac=1)\n",
    "df.head()"
   ]
  },
  {
   "cell_type": "code",
   "execution_count": 5,
   "metadata": {},
   "outputs": [
    {
     "data": {
      "text/plain": [
       "array([[6.7, 3.3, 5.7, 2.1, 'Virginica'],\n",
       "       [6.1, 3.0, 4.9, 1.8, 'Virginica'],\n",
       "       [5.6, 2.9, 3.6, 1.3, 'Versicolor'],\n",
       "       [5.1, 3.8, 1.6, 0.2, 'Setosa'],\n",
       "       [5.0, 3.2, 1.2, 0.2, 'Setosa'],\n",
       "       [7.2, 3.0, 5.8, 1.6, 'Virginica'],\n",
       "       [5.5, 2.5, 4.0, 1.3, 'Versicolor'],\n",
       "       [6.0, 2.2, 5.0, 1.5, 'Virginica'],\n",
       "       [5.6, 2.7, 4.2, 1.3, 'Versicolor'],\n",
       "       [5.3, 3.7, 1.5, 0.2, 'Setosa'],\n",
       "       [5.5, 4.2, 1.4, 0.2, 'Setosa'],\n",
       "       [6.7, 3.0, 5.2, 2.3, 'Virginica'],\n",
       "       [6.4, 3.2, 5.3, 2.3, 'Virginica'],\n",
       "       [6.3, 2.8, 5.1, 1.5, 'Virginica'],\n",
       "       [5.0, 2.0, 3.5, 1.0, 'Versicolor'],\n",
       "       [6.2, 3.4, 5.4, 2.3, 'Virginica'],\n",
       "       [4.8, 3.4, 1.9, 0.2, 'Setosa'],\n",
       "       [4.3, 3.0, 1.1, 0.1, 'Setosa'],\n",
       "       [5.4, 3.9, 1.3, 0.4, 'Setosa'],\n",
       "       [6.4, 3.2, 4.5, 1.5, 'Versicolor'],\n",
       "       [5.8, 2.7, 3.9, 1.2, 'Versicolor'],\n",
       "       [7.7, 3.8, 6.7, 2.2, 'Virginica'],\n",
       "       [4.4, 2.9, 1.4, 0.2, 'Setosa'],\n",
       "       [5.2, 2.7, 3.9, 1.4, 'Versicolor'],\n",
       "       [6.2, 2.2, 4.5, 1.5, 'Versicolor'],\n",
       "       [5.0, 3.5, 1.6, 0.6, 'Setosa'],\n",
       "       [6.1, 2.6, 5.6, 1.4, 'Virginica'],\n",
       "       [6.4, 3.1, 5.5, 1.8, 'Virginica'],\n",
       "       [6.3, 3.3, 6.0, 2.5, 'Virginica'],\n",
       "       [5.8, 2.7, 5.1, 1.9, 'Virginica'],\n",
       "       [4.4, 3.2, 1.3, 0.2, 'Setosa'],\n",
       "       [5.0, 3.3, 1.4, 0.2, 'Setosa'],\n",
       "       [5.2, 3.5, 1.5, 0.2, 'Setosa'],\n",
       "       [6.3, 2.7, 4.9, 1.8, 'Virginica'],\n",
       "       [5.0, 3.4, 1.6, 0.4, 'Setosa'],\n",
       "       [6.5, 3.0, 5.2, 2.0, 'Virginica'],\n",
       "       [5.0, 2.3, 3.3, 1.0, 'Versicolor'],\n",
       "       [6.6, 3.0, 4.4, 1.4, 'Versicolor'],\n",
       "       [6.7, 3.1, 5.6, 2.4, 'Virginica'],\n",
       "       [6.8, 3.2, 5.9, 2.3, 'Virginica'],\n",
       "       [4.7, 3.2, 1.3, 0.2, 'Setosa'],\n",
       "       [6.9, 3.2, 5.7, 2.3, 'Virginica'],\n",
       "       [7.0, 3.2, 4.7, 1.4, 'Versicolor'],\n",
       "       [5.1, 3.5, 1.4, 0.2, 'Setosa'],\n",
       "       [6.2, 2.9, 4.3, 1.3, 'Versicolor'],\n",
       "       [5.8, 2.7, 5.1, 1.9, 'Virginica'],\n",
       "       [5.8, 2.6, 4.0, 1.2, 'Versicolor'],\n",
       "       [4.7, 3.2, 1.6, 0.2, 'Setosa'],\n",
       "       [4.8, 3.4, 1.6, 0.2, 'Setosa'],\n",
       "       [5.7, 2.9, 4.2, 1.3, 'Versicolor'],\n",
       "       [5.4, 3.7, 1.5, 0.2, 'Setosa'],\n",
       "       [5.2, 4.1, 1.5, 0.1, 'Setosa'],\n",
       "       [5.5, 2.4, 3.7, 1.0, 'Versicolor'],\n",
       "       [5.7, 3.8, 1.7, 0.3, 'Setosa'],\n",
       "       [4.9, 3.6, 1.4, 0.1, 'Setosa'],\n",
       "       [6.3, 2.5, 5.0, 1.9, 'Virginica'],\n",
       "       [4.8, 3.1, 1.6, 0.2, 'Setosa'],\n",
       "       [6.3, 2.9, 5.6, 1.8, 'Virginica'],\n",
       "       [5.0, 3.6, 1.4, 0.2, 'Setosa'],\n",
       "       [6.3, 3.3, 4.7, 1.6, 'Versicolor'],\n",
       "       [4.5, 2.3, 1.3, 0.3, 'Setosa'],\n",
       "       [4.6, 3.4, 1.4, 0.3, 'Setosa'],\n",
       "       [6.4, 2.7, 5.3, 1.9, 'Virginica'],\n",
       "       [7.3, 2.9, 6.3, 1.8, 'Virginica'],\n",
       "       [6.0, 3.0, 4.8, 1.8, 'Virginica'],\n",
       "       [4.6, 3.1, 1.5, 0.2, 'Setosa'],\n",
       "       [5.1, 3.5, 1.4, 0.3, 'Setosa'],\n",
       "       [4.4, 3.0, 1.3, 0.2, 'Setosa'],\n",
       "       [6.2, 2.8, 4.8, 1.8, 'Virginica'],\n",
       "       [7.7, 2.6, 6.9, 2.3, 'Virginica'],\n",
       "       [5.5, 2.6, 4.4, 1.2, 'Versicolor'],\n",
       "       [4.6, 3.6, 1.0, 0.2, 'Setosa'],\n",
       "       [5.8, 2.8, 5.1, 2.4, 'Virginica'],\n",
       "       [6.9, 3.1, 4.9, 1.5, 'Versicolor'],\n",
       "       [6.9, 3.1, 5.4, 2.1, 'Virginica'],\n",
       "       [6.7, 3.0, 5.0, 1.7, 'Versicolor'],\n",
       "       [6.1, 2.8, 4.7, 1.2, 'Versicolor'],\n",
       "       [5.1, 3.3, 1.7, 0.5, 'Setosa'],\n",
       "       [5.5, 2.4, 3.8, 1.1, 'Versicolor'],\n",
       "       [5.8, 4.0, 1.2, 0.2, 'Setosa'],\n",
       "       [6.3, 2.3, 4.4, 1.3, 'Versicolor'],\n",
       "       [5.8, 2.7, 4.1, 1.0, 'Versicolor'],\n",
       "       [5.6, 3.0, 4.5, 1.5, 'Versicolor'],\n",
       "       [5.0, 3.0, 1.6, 0.2, 'Setosa'],\n",
       "       [5.4, 3.4, 1.7, 0.2, 'Setosa'],\n",
       "       [5.2, 3.4, 1.4, 0.2, 'Setosa'],\n",
       "       [6.1, 2.8, 4.0, 1.3, 'Versicolor'],\n",
       "       [5.7, 4.4, 1.5, 0.4, 'Setosa'],\n",
       "       [5.7, 2.5, 5.0, 2.0, 'Virginica'],\n",
       "       [4.9, 3.1, 1.5, 0.1, 'Setosa'],\n",
       "       [5.1, 3.7, 1.5, 0.4, 'Setosa'],\n",
       "       [6.1, 3.0, 4.6, 1.4, 'Versicolor'],\n",
       "       [7.7, 2.8, 6.7, 2.0, 'Virginica'],\n",
       "       [7.4, 2.8, 6.1, 1.9, 'Virginica'],\n",
       "       [6.6, 2.9, 4.6, 1.3, 'Versicolor'],\n",
       "       [5.9, 3.0, 5.1, 1.8, 'Virginica'],\n",
       "       [7.2, 3.6, 6.1, 2.5, 'Virginica'],\n",
       "       [4.9, 3.0, 1.4, 0.2, 'Setosa'],\n",
       "       [6.5, 3.0, 5.8, 2.2, 'Virginica'],\n",
       "       [5.4, 3.9, 1.7, 0.4, 'Setosa'],\n",
       "       [5.7, 2.6, 3.5, 1.0, 'Versicolor'],\n",
       "       [4.9, 2.4, 3.3, 1.0, 'Versicolor'],\n",
       "       [6.7, 3.1, 4.4, 1.4, 'Versicolor'],\n",
       "       [6.0, 2.2, 4.0, 1.0, 'Versicolor'],\n",
       "       [5.0, 3.4, 1.5, 0.2, 'Setosa'],\n",
       "       [7.6, 3.0, 6.6, 2.1, 'Virginica'],\n",
       "       [5.6, 3.0, 4.1, 1.3, 'Versicolor'],\n",
       "       [7.2, 3.2, 6.0, 1.8, 'Virginica'],\n",
       "       [4.8, 3.0, 1.4, 0.3, 'Setosa'],\n",
       "       [4.6, 3.2, 1.4, 0.2, 'Setosa'],\n",
       "       [5.5, 3.5, 1.3, 0.2, 'Setosa'],\n",
       "       [5.4, 3.0, 4.5, 1.5, 'Versicolor'],\n",
       "       [5.5, 2.3, 4.0, 1.3, 'Versicolor'],\n",
       "       [6.0, 2.9, 4.5, 1.5, 'Versicolor'],\n",
       "       [6.8, 2.8, 4.8, 1.4, 'Versicolor'],\n",
       "       [4.9, 3.1, 1.5, 0.2, 'Setosa'],\n",
       "       [6.4, 2.9, 4.3, 1.3, 'Versicolor'],\n",
       "       [6.0, 2.7, 5.1, 1.6, 'Versicolor'],\n",
       "       [5.1, 3.8, 1.5, 0.3, 'Setosa'],\n",
       "       [7.9, 3.8, 6.4, 2.0, 'Virginica'],\n",
       "       [6.7, 3.3, 5.7, 2.5, 'Virginica'],\n",
       "       [5.0, 3.5, 1.3, 0.3, 'Setosa'],\n",
       "       [6.5, 3.2, 5.1, 2.0, 'Virginica'],\n",
       "       [5.1, 2.5, 3.0, 1.1, 'Versicolor'],\n",
       "       [4.9, 2.5, 4.5, 1.7, 'Virginica'],\n",
       "       [6.4, 2.8, 5.6, 2.2, 'Virginica'],\n",
       "       [5.6, 2.5, 3.9, 1.1, 'Versicolor'],\n",
       "       [6.4, 2.8, 5.6, 2.1, 'Virginica'],\n",
       "       [6.7, 3.1, 4.7, 1.5, 'Versicolor'],\n",
       "       [7.7, 3.0, 6.1, 2.3, 'Virginica'],\n",
       "       [5.1, 3.8, 1.9, 0.4, 'Setosa'],\n",
       "       [4.8, 3.0, 1.4, 0.1, 'Setosa'],\n",
       "       [7.1, 3.0, 5.9, 2.1, 'Virginica'],\n",
       "       [6.9, 3.1, 5.1, 2.3, 'Virginica'],\n",
       "       [6.0, 3.4, 4.5, 1.6, 'Versicolor'],\n",
       "       [6.3, 3.4, 5.6, 2.4, 'Virginica'],\n",
       "       [5.7, 2.8, 4.1, 1.3, 'Versicolor'],\n",
       "       [5.6, 2.8, 4.9, 2.0, 'Virginica'],\n",
       "       [6.5, 2.8, 4.6, 1.5, 'Versicolor'],\n",
       "       [5.7, 3.0, 4.2, 1.2, 'Versicolor'],\n",
       "       [5.4, 3.4, 1.5, 0.4, 'Setosa'],\n",
       "       [6.7, 2.5, 5.8, 1.8, 'Virginica'],\n",
       "       [6.3, 2.5, 4.9, 1.5, 'Versicolor'],\n",
       "       [5.7, 2.8, 4.5, 1.3, 'Versicolor'],\n",
       "       [5.9, 3.2, 4.8, 1.8, 'Versicolor'],\n",
       "       [5.9, 3.0, 4.2, 1.5, 'Versicolor'],\n",
       "       [5.1, 3.4, 1.5, 0.2, 'Setosa'],\n",
       "       [6.8, 3.0, 5.5, 2.1, 'Virginica'],\n",
       "       [6.5, 3.0, 5.5, 1.8, 'Virginica'],\n",
       "       [6.1, 2.9, 4.7, 1.4, 'Versicolor']], dtype=object)"
      ]
     },
     "execution_count": 5,
     "metadata": {},
     "output_type": "execute_result"
    }
   ],
   "source": [
    "iris = df.values\n",
    "iris"
   ]
  },
  {
   "cell_type": "code",
   "execution_count": 6,
   "metadata": {},
   "outputs": [
    {
     "data": {
      "text/plain": [
       "(150, 5)"
      ]
     },
     "execution_count": 6,
     "metadata": {},
     "output_type": "execute_result"
    }
   ],
   "source": [
    "df.shape"
   ]
  },
  {
   "cell_type": "markdown",
   "metadata": {},
   "source": [
    "<B><I>Distributing Data</B> <Br>X = Question & Y = Answer <Br>Float is defined because we want as it is data. </I>"
   ]
  },
  {
   "cell_type": "code",
   "execution_count": 7,
   "metadata": {},
   "outputs": [],
   "source": [
    "val_x = iris[:20,:4].astype(float)\n",
    "val_y = iris[:20,4]\n",
    "\n",
    "x_train = iris[20:110,:4].astype(float)\n",
    "y_train = iris[20:110,4]\n",
    "\n",
    "x_test = iris[110:,:4].astype(float)\n",
    "y_test = iris[110:,4]"
   ]
  },
  {
   "cell_type": "code",
   "execution_count": 8,
   "metadata": {},
   "outputs": [
    {
     "data": {
      "text/plain": [
       "((90, 4), (90,), (40, 4), (40,), (20, 4), (20,))"
      ]
     },
     "execution_count": 8,
     "metadata": {},
     "output_type": "execute_result"
    }
   ],
   "source": [
    "x_train.shape, y_train.shape, x_test.shape, y_test.shape, val_x.shape, val_y.shape"
   ]
  },
  {
   "cell_type": "markdown",
   "metadata": {},
   "source": [
    "<B><I>Encoding string into numarics</I></B>"
   ]
  },
  {
   "cell_type": "code",
   "execution_count": null,
   "metadata": {},
   "outputs": [],
   "source": [
    "from sklearn.preprocessing import LabelEncoder\n",
    "# encode class values as integers\n",
    "encoder= LabelEncoder()\n",
    "encoded_Y = encoder.fit_transform(y_train)\n",
    "encoded_y_train = tf.keras.utils.to_categorical(encoded_Y)\n",
    "\n",
    "encoded_Y = encoder.fit_transform(y_test)\n",
    "encoded_y_test = tf.keras.utils.to_categorical(encoded_Y)\n",
    "\n",
    "encoded_Y = encoder.fit_transform(val_y)\n",
    "encoded_val = tf.keras.utils.to_categorical(encoded_Y)"
   ]
  },
  {
   "cell_type": "code",
   "execution_count": 10,
   "metadata": {},
   "outputs": [],
   "source": [
    "from tensorflow.keras.models import Sequential\n",
    "from tensorflow.keras.layers import Dense\n",
    "from tensorflow.keras.optimizers import Adam"
   ]
  },
  {
   "cell_type": "markdown",
   "metadata": {},
   "source": [
    "# Preparing Model Layers"
   ]
  },
  {
   "cell_type": "code",
   "execution_count": 11,
   "metadata": {},
   "outputs": [],
   "source": [
    "model = Sequential()\n",
    "\n",
    "model.add(Dense(10,input_shape=(4,),activation='tanh'))\n",
    "model.add(Dense(8,activation='tanh'))\n",
    "model.add(Dense(6,activation='tanh'))\n",
    "model.add(Dense(3,activation='softmax'))"
   ]
  },
  {
   "cell_type": "code",
   "execution_count": 12,
   "metadata": {},
   "outputs": [
    {
     "name": "stdout",
     "output_type": "stream",
     "text": [
      "Model: \"sequential\"\n",
      "_________________________________________________________________\n",
      "Layer (type)                 Output Shape              Param #   \n",
      "=================================================================\n",
      "dense (Dense)                (None, 10)                50        \n",
      "_________________________________________________________________\n",
      "dense_1 (Dense)              (None, 8)                 88        \n",
      "_________________________________________________________________\n",
      "dense_2 (Dense)              (None, 6)                 54        \n",
      "_________________________________________________________________\n",
      "dense_3 (Dense)              (None, 3)                 21        \n",
      "=================================================================\n",
      "Total params: 213\n",
      "Trainable params: 213\n",
      "Non-trainable params: 0\n",
      "_________________________________________________________________\n"
     ]
    }
   ],
   "source": [
    "model.summary()"
   ]
  },
  {
   "cell_type": "code",
   "execution_count": 13,
   "metadata": {},
   "outputs": [],
   "source": [
    "model.compile(optimizer='adam',loss='categorical_crossentropy',metrics=['accuracy'])"
   ]
  },
  {
   "cell_type": "markdown",
   "metadata": {},
   "source": [
    "# Training Model"
   ]
  },
  {
   "cell_type": "code",
   "execution_count": 14,
   "metadata": {},
   "outputs": [
    {
     "name": "stdout",
     "output_type": "stream",
     "text": [
      "Epoch 1/130\n",
      "3/3 [==============================] - 1s 97ms/step - loss: 1.4146 - accuracy: 0.3111 - val_loss: 1.3081 - val_accuracy: 0.4000\n",
      "Epoch 2/130\n",
      "3/3 [==============================] - 0s 15ms/step - loss: 1.3855 - accuracy: 0.3111 - val_loss: 1.2779 - val_accuracy: 0.4000\n",
      "Epoch 3/130\n",
      "3/3 [==============================] - 0s 14ms/step - loss: 1.3497 - accuracy: 0.3111 - val_loss: 1.2489 - val_accuracy: 0.4000\n",
      "Epoch 4/130\n",
      "3/3 [==============================] - 0s 12ms/step - loss: 1.3154 - accuracy: 0.3111 - val_loss: 1.2211 - val_accuracy: 0.4000\n",
      "Epoch 5/130\n",
      "3/3 [==============================] - 0s 10ms/step - loss: 1.2841 - accuracy: 0.3111 - val_loss: 1.1939 - val_accuracy: 0.4000\n",
      "Epoch 6/130\n",
      "3/3 [==============================] - 0s 13ms/step - loss: 1.2516 - accuracy: 0.3111 - val_loss: 1.1683 - val_accuracy: 0.4000\n",
      "Epoch 7/130\n",
      "3/3 [==============================] - 0s 12ms/step - loss: 1.2229 - accuracy: 0.3111 - val_loss: 1.1437 - val_accuracy: 0.4000\n",
      "Epoch 8/130\n",
      "3/3 [==============================] - 0s 12ms/step - loss: 1.1944 - accuracy: 0.3111 - val_loss: 1.1206 - val_accuracy: 0.4000\n",
      "Epoch 9/130\n",
      "3/3 [==============================] - 0s 12ms/step - loss: 1.1653 - accuracy: 0.3111 - val_loss: 1.0994 - val_accuracy: 0.4000\n",
      "Epoch 10/130\n",
      "3/3 [==============================] - 0s 12ms/step - loss: 1.1403 - accuracy: 0.3111 - val_loss: 1.0795 - val_accuracy: 0.4000\n",
      "Epoch 11/130\n",
      "3/3 [==============================] - 0s 10ms/step - loss: 1.1175 - accuracy: 0.3111 - val_loss: 1.0613 - val_accuracy: 0.4000\n",
      "Epoch 12/130\n",
      "3/3 [==============================] - 0s 15ms/step - loss: 1.0916 - accuracy: 0.3111 - val_loss: 1.0450 - val_accuracy: 0.4000\n",
      "Epoch 13/130\n",
      "3/3 [==============================] - 0s 12ms/step - loss: 1.0731 - accuracy: 0.3111 - val_loss: 1.0298 - val_accuracy: 0.4000\n",
      "Epoch 14/130\n",
      "3/3 [==============================] - 0s 16ms/step - loss: 1.0538 - accuracy: 0.3111 - val_loss: 1.0159 - val_accuracy: 0.4000\n",
      "Epoch 15/130\n",
      "3/3 [==============================] - 0s 14ms/step - loss: 1.0360 - accuracy: 0.3222 - val_loss: 1.0029 - val_accuracy: 0.5500\n",
      "Epoch 16/130\n",
      "3/3 [==============================] - 0s 12ms/step - loss: 1.0181 - accuracy: 0.5778 - val_loss: 0.9906 - val_accuracy: 0.7000\n",
      "Epoch 17/130\n",
      "3/3 [==============================] - 0s 10ms/step - loss: 1.0030 - accuracy: 0.7000 - val_loss: 0.9785 - val_accuracy: 0.7500\n",
      "Epoch 18/130\n",
      "3/3 [==============================] - 0s 14ms/step - loss: 0.9879 - accuracy: 0.7000 - val_loss: 0.9662 - val_accuracy: 0.7500\n",
      "Epoch 19/130\n",
      "3/3 [==============================] - 0s 10ms/step - loss: 0.9729 - accuracy: 0.7000 - val_loss: 0.9537 - val_accuracy: 0.7500\n",
      "Epoch 20/130\n",
      "3/3 [==============================] - 0s 12ms/step - loss: 0.9576 - accuracy: 0.7000 - val_loss: 0.9407 - val_accuracy: 0.7500\n",
      "Epoch 21/130\n",
      "3/3 [==============================] - 0s 12ms/step - loss: 0.9440 - accuracy: 0.7000 - val_loss: 0.9272 - val_accuracy: 0.7500\n",
      "Epoch 22/130\n",
      "3/3 [==============================] - 0s 12ms/step - loss: 0.9289 - accuracy: 0.7000 - val_loss: 0.9130 - val_accuracy: 0.7500\n",
      "Epoch 23/130\n",
      "3/3 [==============================] - 0s 13ms/step - loss: 0.9122 - accuracy: 0.7000 - val_loss: 0.8980 - val_accuracy: 0.7500\n",
      "Epoch 24/130\n",
      "3/3 [==============================] - 0s 14ms/step - loss: 0.8961 - accuracy: 0.7000 - val_loss: 0.8825 - val_accuracy: 0.7500\n",
      "Epoch 25/130\n",
      "3/3 [==============================] - 0s 14ms/step - loss: 0.8794 - accuracy: 0.7000 - val_loss: 0.8667 - val_accuracy: 0.7500\n",
      "Epoch 26/130\n",
      "3/3 [==============================] - 0s 12ms/step - loss: 0.8624 - accuracy: 0.7000 - val_loss: 0.8508 - val_accuracy: 0.7500\n",
      "Epoch 27/130\n",
      "3/3 [==============================] - 0s 12ms/step - loss: 0.8452 - accuracy: 0.7000 - val_loss: 0.8349 - val_accuracy: 0.7500\n",
      "Epoch 28/130\n",
      "3/3 [==============================] - 0s 14ms/step - loss: 0.8283 - accuracy: 0.7000 - val_loss: 0.8194 - val_accuracy: 0.7500\n",
      "Epoch 29/130\n",
      "3/3 [==============================] - 0s 12ms/step - loss: 0.8120 - accuracy: 0.7111 - val_loss: 0.8044 - val_accuracy: 0.7500\n",
      "Epoch 30/130\n",
      "3/3 [==============================] - 0s 8ms/step - loss: 0.7953 - accuracy: 0.7111 - val_loss: 0.7900 - val_accuracy: 0.8000\n",
      "Epoch 31/130\n",
      "3/3 [==============================] - 0s 15ms/step - loss: 0.7793 - accuracy: 0.7222 - val_loss: 0.7762 - val_accuracy: 0.8000\n",
      "Epoch 32/130\n",
      "3/3 [==============================] - 0s 12ms/step - loss: 0.7645 - accuracy: 0.7667 - val_loss: 0.7633 - val_accuracy: 0.8000\n",
      "Epoch 33/130\n",
      "3/3 [==============================] - 0s 10ms/step - loss: 0.7501 - accuracy: 0.8000 - val_loss: 0.7508 - val_accuracy: 0.8500\n",
      "Epoch 34/130\n",
      "3/3 [==============================] - 0s 12ms/step - loss: 0.7363 - accuracy: 0.8000 - val_loss: 0.7391 - val_accuracy: 0.8500\n",
      "Epoch 35/130\n",
      "3/3 [==============================] - 0s 14ms/step - loss: 0.7234 - accuracy: 0.8333 - val_loss: 0.7279 - val_accuracy: 0.8500\n",
      "Epoch 36/130\n",
      "3/3 [==============================] - 0s 12ms/step - loss: 0.7113 - accuracy: 0.8333 - val_loss: 0.7170 - val_accuracy: 0.8500\n",
      "Epoch 37/130\n",
      "3/3 [==============================] - 0s 10ms/step - loss: 0.6997 - accuracy: 0.8222 - val_loss: 0.7062 - val_accuracy: 0.8500\n",
      "Epoch 38/130\n",
      "3/3 [==============================] - 0s 14ms/step - loss: 0.6888 - accuracy: 0.8444 - val_loss: 0.6960 - val_accuracy: 0.8500\n",
      "Epoch 39/130\n",
      "3/3 [==============================] - 0s 16ms/step - loss: 0.6785 - accuracy: 0.8556 - val_loss: 0.6861 - val_accuracy: 0.8500\n",
      "Epoch 40/130\n",
      "3/3 [==============================] - 0s 15ms/step - loss: 0.6686 - accuracy: 0.8667 - val_loss: 0.6764 - val_accuracy: 0.8500\n",
      "Epoch 41/130\n",
      "3/3 [==============================] - 0s 12ms/step - loss: 0.6591 - accuracy: 0.8556 - val_loss: 0.6670 - val_accuracy: 0.9000\n",
      "Epoch 42/130\n",
      "3/3 [==============================] - 0s 10ms/step - loss: 0.6498 - accuracy: 0.8444 - val_loss: 0.6580 - val_accuracy: 0.9000\n",
      "Epoch 43/130\n",
      "3/3 [==============================] - 0s 12ms/step - loss: 0.6410 - accuracy: 0.8444 - val_loss: 0.6489 - val_accuracy: 0.8500\n",
      "Epoch 44/130\n",
      "3/3 [==============================] - 0s 14ms/step - loss: 0.6327 - accuracy: 0.8444 - val_loss: 0.6402 - val_accuracy: 0.8500\n",
      "Epoch 45/130\n",
      "3/3 [==============================] - 0s 13ms/step - loss: 0.6247 - accuracy: 0.8222 - val_loss: 0.6317 - val_accuracy: 0.8500\n",
      "Epoch 46/130\n",
      "3/3 [==============================] - 0s 10ms/step - loss: 0.6169 - accuracy: 0.8000 - val_loss: 0.6238 - val_accuracy: 0.8500\n",
      "Epoch 47/130\n",
      "3/3 [==============================] - 0s 14ms/step - loss: 0.6093 - accuracy: 0.8000 - val_loss: 0.6163 - val_accuracy: 0.8500\n",
      "Epoch 48/130\n",
      "3/3 [==============================] - 0s 13ms/step - loss: 0.6022 - accuracy: 0.7889 - val_loss: 0.6089 - val_accuracy: 0.8500\n",
      "Epoch 49/130\n",
      "3/3 [==============================] - 0s 15ms/step - loss: 0.5954 - accuracy: 0.7778 - val_loss: 0.6020 - val_accuracy: 0.8500\n",
      "Epoch 50/130\n",
      "3/3 [==============================] - 0s 12ms/step - loss: 0.5887 - accuracy: 0.7778 - val_loss: 0.5955 - val_accuracy: 0.8500\n",
      "Epoch 51/130\n",
      "3/3 [==============================] - 0s 14ms/step - loss: 0.5824 - accuracy: 0.7778 - val_loss: 0.5893 - val_accuracy: 0.8500\n",
      "Epoch 52/130\n",
      "3/3 [==============================] - 0s 12ms/step - loss: 0.5762 - accuracy: 0.7778 - val_loss: 0.5831 - val_accuracy: 0.8500\n",
      "Epoch 53/130\n",
      "3/3 [==============================] - 0s 12ms/step - loss: 0.5701 - accuracy: 0.7778 - val_loss: 0.5775 - val_accuracy: 0.8500\n",
      "Epoch 54/130\n",
      "3/3 [==============================] - 0s 14ms/step - loss: 0.5643 - accuracy: 0.7889 - val_loss: 0.5719 - val_accuracy: 0.8500\n",
      "Epoch 55/130\n",
      "3/3 [==============================] - 0s 12ms/step - loss: 0.5588 - accuracy: 0.7889 - val_loss: 0.5667 - val_accuracy: 0.8500\n",
      "Epoch 56/130\n",
      "3/3 [==============================] - 0s 14ms/step - loss: 0.5534 - accuracy: 0.7889 - val_loss: 0.5615 - val_accuracy: 0.8500\n",
      "Epoch 57/130\n",
      "3/3 [==============================] - 0s 12ms/step - loss: 0.5483 - accuracy: 0.7889 - val_loss: 0.5565 - val_accuracy: 0.8500\n",
      "Epoch 58/130\n",
      "3/3 [==============================] - 0s 12ms/step - loss: 0.5432 - accuracy: 0.7889 - val_loss: 0.5521 - val_accuracy: 0.8500\n",
      "Epoch 59/130\n"
     ]
    },
    {
     "name": "stdout",
     "output_type": "stream",
     "text": [
      "3/3 [==============================] - 0s 14ms/step - loss: 0.5384 - accuracy: 0.7889 - val_loss: 0.5481 - val_accuracy: 0.8500\n",
      "Epoch 60/130\n",
      "3/3 [==============================] - 0s 12ms/step - loss: 0.5336 - accuracy: 0.8000 - val_loss: 0.5436 - val_accuracy: 0.8500\n",
      "Epoch 61/130\n",
      "3/3 [==============================] - 0s 12ms/step - loss: 0.5291 - accuracy: 0.8111 - val_loss: 0.5397 - val_accuracy: 0.8500\n",
      "Epoch 62/130\n",
      "3/3 [==============================] - 0s 12ms/step - loss: 0.5248 - accuracy: 0.8111 - val_loss: 0.5361 - val_accuracy: 0.8500\n",
      "Epoch 63/130\n",
      "3/3 [==============================] - 0s 10ms/step - loss: 0.5203 - accuracy: 0.8333 - val_loss: 0.5319 - val_accuracy: 0.8500\n",
      "Epoch 64/130\n",
      "3/3 [==============================] - 0s 12ms/step - loss: 0.5164 - accuracy: 0.8333 - val_loss: 0.5279 - val_accuracy: 0.8500\n",
      "Epoch 65/130\n",
      "3/3 [==============================] - 0s 10ms/step - loss: 0.5124 - accuracy: 0.8444 - val_loss: 0.5246 - val_accuracy: 0.8500\n",
      "Epoch 66/130\n",
      "3/3 [==============================] - 0s 10ms/step - loss: 0.5082 - accuracy: 0.8444 - val_loss: 0.5207 - val_accuracy: 0.8500\n",
      "Epoch 67/130\n",
      "3/3 [==============================] - 0s 13ms/step - loss: 0.5044 - accuracy: 0.8444 - val_loss: 0.5168 - val_accuracy: 0.8500\n",
      "Epoch 68/130\n",
      "3/3 [==============================] - 0s 12ms/step - loss: 0.5007 - accuracy: 0.8444 - val_loss: 0.5133 - val_accuracy: 0.8500\n",
      "Epoch 69/130\n",
      "3/3 [==============================] - 0s 11ms/step - loss: 0.4971 - accuracy: 0.8556 - val_loss: 0.5101 - val_accuracy: 0.8500\n",
      "Epoch 70/130\n",
      "3/3 [==============================] - 0s 12ms/step - loss: 0.4934 - accuracy: 0.8556 - val_loss: 0.5065 - val_accuracy: 0.8500\n",
      "Epoch 71/130\n",
      "3/3 [==============================] - 0s 10ms/step - loss: 0.4902 - accuracy: 0.8444 - val_loss: 0.5025 - val_accuracy: 0.8500\n",
      "Epoch 72/130\n",
      "3/3 [==============================] - 0s 10ms/step - loss: 0.4864 - accuracy: 0.8444 - val_loss: 0.4993 - val_accuracy: 0.8500\n",
      "Epoch 73/130\n",
      "3/3 [==============================] - 0s 12ms/step - loss: 0.4836 - accuracy: 0.8444 - val_loss: 0.4957 - val_accuracy: 0.8500\n",
      "Epoch 74/130\n",
      "3/3 [==============================] - 0s 12ms/step - loss: 0.4798 - accuracy: 0.8444 - val_loss: 0.4934 - val_accuracy: 0.9000\n",
      "Epoch 75/130\n",
      "3/3 [==============================] - 0s 12ms/step - loss: 0.4765 - accuracy: 0.8667 - val_loss: 0.4910 - val_accuracy: 0.9000\n",
      "Epoch 76/130\n",
      "3/3 [==============================] - 0s 10ms/step - loss: 0.4732 - accuracy: 0.9000 - val_loss: 0.4886 - val_accuracy: 0.9000\n",
      "Epoch 77/130\n",
      "3/3 [==============================] - 0s 12ms/step - loss: 0.4700 - accuracy: 0.9000 - val_loss: 0.4857 - val_accuracy: 0.9500\n",
      "Epoch 78/130\n",
      "3/3 [==============================] - 0s 10ms/step - loss: 0.4668 - accuracy: 0.9000 - val_loss: 0.4826 - val_accuracy: 0.9500\n",
      "Epoch 79/130\n",
      "3/3 [==============================] - 0s 12ms/step - loss: 0.4636 - accuracy: 0.9000 - val_loss: 0.4793 - val_accuracy: 0.9500\n",
      "Epoch 80/130\n",
      "3/3 [==============================] - 0s 12ms/step - loss: 0.4605 - accuracy: 0.9000 - val_loss: 0.4765 - val_accuracy: 0.9500\n",
      "Epoch 81/130\n",
      "3/3 [==============================] - 0s 10ms/step - loss: 0.4574 - accuracy: 0.9111 - val_loss: 0.4734 - val_accuracy: 0.9500\n",
      "Epoch 82/130\n",
      "3/3 [==============================] - 0s 11ms/step - loss: 0.4543 - accuracy: 0.9111 - val_loss: 0.4705 - val_accuracy: 0.9500\n",
      "Epoch 83/130\n",
      "3/3 [==============================] - 0s 10ms/step - loss: 0.4511 - accuracy: 0.9111 - val_loss: 0.4677 - val_accuracy: 0.9500\n",
      "Epoch 84/130\n",
      "3/3 [==============================] - 0s 12ms/step - loss: 0.4481 - accuracy: 0.9111 - val_loss: 0.4655 - val_accuracy: 1.0000\n",
      "Epoch 85/130\n",
      "3/3 [==============================] - 0s 12ms/step - loss: 0.4451 - accuracy: 0.9222 - val_loss: 0.4629 - val_accuracy: 1.0000\n",
      "Epoch 86/130\n",
      "3/3 [==============================] - 0s 12ms/step - loss: 0.4421 - accuracy: 0.9222 - val_loss: 0.4595 - val_accuracy: 1.0000\n",
      "Epoch 87/130\n",
      "3/3 [==============================] - 0s 10ms/step - loss: 0.4389 - accuracy: 0.9333 - val_loss: 0.4572 - val_accuracy: 1.0000\n",
      "Epoch 88/130\n",
      "3/3 [==============================] - 0s 10ms/step - loss: 0.4359 - accuracy: 0.9333 - val_loss: 0.4545 - val_accuracy: 1.0000\n",
      "Epoch 89/130\n",
      "3/3 [==============================] - 0s 10ms/step - loss: 0.4327 - accuracy: 0.9333 - val_loss: 0.4512 - val_accuracy: 1.0000\n",
      "Epoch 90/130\n",
      "3/3 [==============================] - 0s 12ms/step - loss: 0.4297 - accuracy: 0.9333 - val_loss: 0.4478 - val_accuracy: 1.0000\n",
      "Epoch 91/130\n",
      "3/3 [==============================] - 0s 12ms/step - loss: 0.4266 - accuracy: 0.9333 - val_loss: 0.4447 - val_accuracy: 1.0000\n",
      "Epoch 92/130\n",
      "3/3 [==============================] - 0s 14ms/step - loss: 0.4235 - accuracy: 0.9333 - val_loss: 0.4418 - val_accuracy: 1.0000\n",
      "Epoch 93/130\n",
      "3/3 [==============================] - 0s 12ms/step - loss: 0.4204 - accuracy: 0.9333 - val_loss: 0.4394 - val_accuracy: 1.0000\n",
      "Epoch 94/130\n",
      "3/3 [==============================] - 0s 12ms/step - loss: 0.4173 - accuracy: 0.9333 - val_loss: 0.4363 - val_accuracy: 1.0000\n",
      "Epoch 95/130\n",
      "3/3 [==============================] - 0s 10ms/step - loss: 0.4143 - accuracy: 0.9333 - val_loss: 0.4345 - val_accuracy: 1.0000\n",
      "Epoch 96/130\n",
      "3/3 [==============================] - 0s 12ms/step - loss: 0.4112 - accuracy: 0.9444 - val_loss: 0.4320 - val_accuracy: 1.0000\n",
      "Epoch 97/130\n",
      "3/3 [==============================] - 0s 12ms/step - loss: 0.4078 - accuracy: 0.9667 - val_loss: 0.4284 - val_accuracy: 1.0000\n",
      "Epoch 98/130\n",
      "3/3 [==============================] - 0s 12ms/step - loss: 0.4047 - accuracy: 0.9444 - val_loss: 0.4245 - val_accuracy: 1.0000\n",
      "Epoch 99/130\n",
      "3/3 [==============================] - 0s 12ms/step - loss: 0.4017 - accuracy: 0.9333 - val_loss: 0.4204 - val_accuracy: 1.0000\n",
      "Epoch 100/130\n",
      "3/3 [==============================] - 0s 12ms/step - loss: 0.3983 - accuracy: 0.9444 - val_loss: 0.4179 - val_accuracy: 1.0000\n",
      "Epoch 101/130\n",
      "3/3 [==============================] - 0s 12ms/step - loss: 0.3950 - accuracy: 0.9444 - val_loss: 0.4147 - val_accuracy: 1.0000\n",
      "Epoch 102/130\n",
      "3/3 [==============================] - 0s 12ms/step - loss: 0.3918 - accuracy: 0.9556 - val_loss: 0.4122 - val_accuracy: 1.0000\n",
      "Epoch 103/130\n",
      "3/3 [==============================] - 0s 12ms/step - loss: 0.3886 - accuracy: 0.9667 - val_loss: 0.4098 - val_accuracy: 1.0000\n",
      "Epoch 104/130\n",
      "3/3 [==============================] - 0s 12ms/step - loss: 0.3853 - accuracy: 0.9667 - val_loss: 0.4063 - val_accuracy: 1.0000\n",
      "Epoch 105/130\n",
      "3/3 [==============================] - 0s 12ms/step - loss: 0.3819 - accuracy: 0.9667 - val_loss: 0.4020 - val_accuracy: 1.0000\n",
      "Epoch 106/130\n",
      "3/3 [==============================] - 0s 10ms/step - loss: 0.3786 - accuracy: 0.9667 - val_loss: 0.3986 - val_accuracy: 1.0000\n",
      "Epoch 107/130\n",
      "3/3 [==============================] - 0s 12ms/step - loss: 0.3752 - accuracy: 0.9667 - val_loss: 0.3949 - val_accuracy: 1.0000\n",
      "Epoch 108/130\n",
      "3/3 [==============================] - 0s 12ms/step - loss: 0.3723 - accuracy: 0.9667 - val_loss: 0.3906 - val_accuracy: 1.0000\n",
      "Epoch 109/130\n",
      "3/3 [==============================] - 0s 12ms/step - loss: 0.3690 - accuracy: 0.9556 - val_loss: 0.3878 - val_accuracy: 1.0000\n",
      "Epoch 110/130\n",
      "3/3 [==============================] - 0s 10ms/step - loss: 0.3651 - accuracy: 0.9667 - val_loss: 0.3863 - val_accuracy: 1.0000\n",
      "Epoch 111/130\n",
      "3/3 [==============================] - 0s 13ms/step - loss: 0.3619 - accuracy: 0.9667 - val_loss: 0.3833 - val_accuracy: 1.0000\n",
      "Epoch 112/130\n",
      "3/3 [==============================] - 0s 10ms/step - loss: 0.3588 - accuracy: 0.9778 - val_loss: 0.3812 - val_accuracy: 1.0000\n",
      "Epoch 113/130\n",
      "3/3 [==============================] - 0s 12ms/step - loss: 0.3551 - accuracy: 0.9778 - val_loss: 0.3772 - val_accuracy: 1.0000\n",
      "Epoch 114/130\n",
      "3/3 [==============================] - 0s 12ms/step - loss: 0.3520 - accuracy: 0.9778 - val_loss: 0.3725 - val_accuracy: 1.0000\n",
      "Epoch 115/130\n",
      "3/3 [==============================] - 0s 14ms/step - loss: 0.3486 - accuracy: 0.9667 - val_loss: 0.3681 - val_accuracy: 1.0000\n",
      "Epoch 116/130\n",
      "3/3 [==============================] - 0s 12ms/step - loss: 0.3450 - accuracy: 0.9667 - val_loss: 0.3657 - val_accuracy: 1.0000\n",
      "Epoch 117/130\n"
     ]
    },
    {
     "name": "stdout",
     "output_type": "stream",
     "text": [
      "3/3 [==============================] - 0s 12ms/step - loss: 0.3416 - accuracy: 0.9778 - val_loss: 0.3629 - val_accuracy: 1.0000\n",
      "Epoch 118/130\n",
      "3/3 [==============================] - 0s 10ms/step - loss: 0.3383 - accuracy: 0.9778 - val_loss: 0.3601 - val_accuracy: 1.0000\n",
      "Epoch 119/130\n",
      "3/3 [==============================] - 0s 12ms/step - loss: 0.3350 - accuracy: 0.9778 - val_loss: 0.3553 - val_accuracy: 1.0000\n",
      "Epoch 120/130\n",
      "3/3 [==============================] - 0s 12ms/step - loss: 0.3314 - accuracy: 0.9778 - val_loss: 0.3519 - val_accuracy: 1.0000\n",
      "Epoch 121/130\n",
      "3/3 [==============================] - 0s 12ms/step - loss: 0.3285 - accuracy: 0.9778 - val_loss: 0.3499 - val_accuracy: 1.0000\n",
      "Epoch 122/130\n",
      "3/3 [==============================] - 0s 12ms/step - loss: 0.3247 - accuracy: 0.9778 - val_loss: 0.3458 - val_accuracy: 1.0000\n",
      "Epoch 123/130\n",
      "3/3 [==============================] - 0s 12ms/step - loss: 0.3215 - accuracy: 0.9778 - val_loss: 0.3417 - val_accuracy: 1.0000\n",
      "Epoch 124/130\n",
      "3/3 [==============================] - 0s 11ms/step - loss: 0.3180 - accuracy: 0.9778 - val_loss: 0.3382 - val_accuracy: 1.0000\n",
      "Epoch 125/130\n",
      "3/3 [==============================] - 0s 10ms/step - loss: 0.3150 - accuracy: 0.9778 - val_loss: 0.3359 - val_accuracy: 1.0000\n",
      "Epoch 126/130\n",
      "3/3 [==============================] - 0s 10ms/step - loss: 0.3114 - accuracy: 0.9778 - val_loss: 0.3319 - val_accuracy: 1.0000\n",
      "Epoch 127/130\n",
      "3/3 [==============================] - 0s 12ms/step - loss: 0.3085 - accuracy: 0.9778 - val_loss: 0.3295 - val_accuracy: 1.0000\n",
      "Epoch 128/130\n",
      "3/3 [==============================] - 0s 10ms/step - loss: 0.3050 - accuracy: 0.9778 - val_loss: 0.3248 - val_accuracy: 1.0000\n",
      "Epoch 129/130\n",
      "3/3 [==============================] - 0s 12ms/step - loss: 0.3019 - accuracy: 0.9778 - val_loss: 0.3227 - val_accuracy: 1.0000\n",
      "Epoch 130/130\n",
      "3/3 [==============================] - 0s 12ms/step - loss: 0.2984 - accuracy: 0.9778 - val_loss: 0.3187 - val_accuracy: 1.0000\n"
     ]
    }
   ],
   "source": [
    "history = model.fit(x_train, encoded_y_train, epochs=130, verbose=1, validation_data=(val_x,encoded_val))"
   ]
  },
  {
   "cell_type": "code",
   "execution_count": 15,
   "metadata": {},
   "outputs": [
    {
     "data": {
      "image/png": "[encoded data removed]",
      "text/plain": [
       "<Figure size 432x288 with 1 Axes>"
      ]
     },
     "metadata": {
      "needs_background": "light"
     },
     "output_type": "display_data"
    }
   ],
   "source": [
    "loss = history.history['loss']\n",
    "val_loss = history.history['val_loss']\n",
    "epochs = range(1, len(loss) + 1)\n",
    "plt.plot(epochs, loss, 'bo', label='Training loss')\n",
    "plt.plot(epochs, val_loss, 'b', label='Validation loss')\n",
    "plt.title('Training And Validation Loss')\n",
    "plt.xlabel('Epochs')\n",
    "plt.ylabel('Loss')\n",
    "plt.legend()\n",
    "plt.show()"
   ]
  },
  {
   "cell_type": "code",
   "execution_count": 16,
   "metadata": {},
   "outputs": [
    {
     "data": {
      "image/png": "[encoded data removed]",
      "text/plain": [
       "<Figure size 432x288 with 1 Axes>"
      ]
     },
     "metadata": {
      "needs_background": "light"
     },
     "output_type": "display_data"
    }
   ],
   "source": [
    "plt.clf()\n",
    "acc = history.history['accuracy']\n",
    "val_acc = history.history['val_accuracy']\n",
    "plt.plot(epochs, acc, 'bo', label='Training acc')\n",
    "plt.plot(epochs, val_acc, 'b', label='Validation acc')\n",
    "plt.title('Training And Validation Accuracy')\n",
    "plt.xlabel('Epochs')\n",
    "plt.ylabel('Loss')\n",
    "plt.legend()\n",
    "plt.show()"
   ]
  },
  {
   "cell_type": "markdown",
   "metadata": {},
   "source": [
    "# <B>TEST Prediction</B>"
   ]
  },
  {
   "cell_type": "markdown",
   "metadata": {},
   "source": [
    "<B><I>Picking Random Test data</I></B>"
   ]
  },
  {
   "cell_type": "code",
   "execution_count": 86,
   "metadata": {},
   "outputs": [
    {
     "data": {
      "text/plain": [
       "[26, 20, 38]"
      ]
     },
     "execution_count": 86,
     "metadata": {},
     "output_type": "execute_result"
    }
   ],
   "source": [
    "random_x = []\n",
    "for i in range(3):\n",
    "    num = random.randint(0,39)\n",
    "    random_x.append(num)\n",
    "random_x"
   ]
  },
  {
   "cell_type": "markdown",
   "metadata": {},
   "source": [
    "<B><I>Making an array of those data values</I></B>"
   ]
  },
  {
   "cell_type": "code",
   "execution_count": 89,
   "metadata": {},
   "outputs": [
    {
     "data": {
      "text/plain": [
       "array([[5.7, 2.8, 4.1, 1.3],\n",
       "       [5.1, 3.8, 1.9, 0.4],\n",
       "       [6.5, 3. , 5.5, 1.8]])"
      ]
     },
     "execution_count": 89,
     "metadata": {},
     "output_type": "execute_result"
    }
   ],
   "source": [
    "x = np.array([x_test[random_x[0]],x_test[random_x[1]],x_test[random_x[2]]])\n",
    "x"
   ]
  },
  {
   "cell_type": "code",
   "execution_count": 90,
   "metadata": {},
   "outputs": [
    {
     "data": {
      "text/plain": [
       "array([[0.06290578, 0.61137074, 0.32572347],\n",
       "       [0.9574118 , 0.03292243, 0.00966581],\n",
       "       [0.0163393 , 0.31343237, 0.67022836]], dtype=float32)"
      ]
     },
     "execution_count": 90,
     "metadata": {},
     "output_type": "execute_result"
    }
   ],
   "source": [
    "prediction = model.predict(x)\n",
    "prediction"
   ]
  },
  {
   "cell_type": "markdown",
   "metadata": {},
   "source": [
    "<B><I>Defining Classes</I></B>"
   ]
  },
  {
   "cell_type": "code",
   "execution_count": 88,
   "metadata": {},
   "outputs": [
    {
     "data": {
      "text/plain": [
       "array(['Virginica', 'Versicolor', 'Setosa'], dtype=object)"
      ]
     },
     "execution_count": 88,
     "metadata": {},
     "output_type": "execute_result"
    }
   ],
   "source": [
    "class_names = df['variety'].unique()\n",
    "class_names"
   ]
  },
  {
   "cell_type": "markdown",
   "metadata": {},
   "source": [
    "<B><I>Prediction Results</I></B>"
   ]
  },
  {
   "cell_type": "code",
   "execution_count": 91,
   "metadata": {},
   "outputs": [
    {
     "data": {
      "text/plain": [
       "['Versicolor', 'Virginica', 'Setosa']"
      ]
     },
     "execution_count": 91,
     "metadata": {},
     "output_type": "execute_result"
    }
   ],
   "source": [
    "results = []\n",
    "for check in prediction:\n",
    "    index = np.argmax(check)\n",
    "    results.append(class_names[index])\n",
    "results"
   ]
  }
 ],
 "metadata": {
  "kernelspec": {
   "display_name": "Python 3",
   "language": "python",
   "name": "python3"
  },
  "language_info": {
   "codemirror_mode": {
    "name": "ipython",
    "version": 3
   },
   "file_extension": ".py",
   "mimetype": "text/x-python",
   "name": "python",
   "nbconvert_exporter": "python",
   "pygments_lexer": "ipython3",
   "version": "3.7.3"
  }
 },
 "nbformat": 4,
 "nbformat_minor": 2
}
